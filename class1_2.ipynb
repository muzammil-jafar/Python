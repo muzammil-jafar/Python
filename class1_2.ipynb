{
  "nbformat": 4,
  "nbformat_minor": 0,
  "metadata": {
    "colab": {
      "provenance": [],
      "authorship_tag": "ABX9TyPiblbWzW9hB+7X6EGv6Rrv",
      "include_colab_link": true
    },
    "kernelspec": {
      "name": "python3",
      "display_name": "Python 3"
    },
    "language_info": {
      "name": "python"
    }
  },
  "cells": [
    {
      "cell_type": "markdown",
      "metadata": {
        "id": "view-in-github",
        "colab_type": "text"
      },
      "source": [
        "<a href=\"https://colab.research.google.com/github/muzammil-jafar/Python/blob/main/class1_2.ipynb\" target=\"_parent\"><img src=\"https://colab.research.google.com/assets/colab-badge.svg\" alt=\"Open In Colab\"/></a>"
      ]
    },
    {
      "cell_type": "code",
      "execution_count": 4,
      "metadata": {
        "colab": {
          "base_uri": "https://localhost:8080/"
        },
        "id": "ZhoNUCJfU0Cx",
        "outputId": "93929c1f-7eb4-43d9-9618-b1ce4d1ced11"
      },
      "outputs": [
        {
          "output_type": "stream",
          "name": "stdout",
          "text": [
            "Hello world\n",
            "my name is : Muzammil\n",
            "my age is : 20\n",
            "<class 'str'> <class 'int'>\n"
          ]
        }
      ],
      "source": [
        "print(\"Hello world\")\n",
        "\n",
        "name = \"Muzammil\";\n",
        "age = 20;\n",
        "\n",
        "print(\"my name is :\" , name)\n",
        "print(\"my age is :\" , age)\n",
        "print(type(name),type(age))\n",
        "print(f\"my name is {name}\")"
      ]
    },
    {
      "cell_type": "code",
      "source": [
        "paragraph = \"\"\"my name is Muzammmil.\n",
        "I am a developer.\n",
        "How to print it in second line?\"\"\"\n",
        "\n",
        "print(paragraph)\n",
        "\n",
        "name1 = \"Muzammil\"\n",
        "mail = f\"\"\"hey {name1}\n",
        "you got a free coupon code\n",
        "\n",
        "Best Regards\n",
        "Aman\"\"\"\n",
        "\n",
        "print(mail)"
      ],
      "metadata": {
        "colab": {
          "base_uri": "https://localhost:8080/"
        },
        "id": "AY3fp52g-6Z5",
        "outputId": "1ba2673f-8139-494d-aa0d-9fbc268b3457"
      },
      "execution_count": 11,
      "outputs": [
        {
          "output_type": "stream",
          "name": "stdout",
          "text": [
            "my name is Muzammmil.\n",
            "I am a developer.\n",
            "How to print it in second line?\n",
            "hey Muzammil \n",
            "you got a free coupon code\n",
            "\n",
            "Best Regards\n",
            "Aman\n"
          ]
        }
      ]
    },
    {
      "cell_type": "code",
      "source": [
        "faculty = 12\n",
        "administrative = 4\n",
        "students = 100\n",
        "absent = 15\n",
        "total = faculty + administrative + students - absent\n",
        "print(f\"{total * 250//1000}kg\" )\n"
      ],
      "metadata": {
        "colab": {
          "base_uri": "https://localhost:8080/"
        },
        "id": "995b8lsXEojG",
        "outputId": "aff933fb-cb90-4e2e-b1c0-a3b6ddb70c52"
      },
      "execution_count": 19,
      "outputs": [
        {
          "output_type": "stream",
          "name": "stdout",
          "text": [
            "25kg\n"
          ]
        }
      ]
    }
  ]
}