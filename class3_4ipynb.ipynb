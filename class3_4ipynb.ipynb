{
  "nbformat": 4,
  "nbformat_minor": 0,
  "metadata": {
    "colab": {
      "provenance": [],
      "authorship_tag": "ABX9TyNRX1BXFb1EKQ2ZciYX0adf",
      "include_colab_link": true
    },
    "kernelspec": {
      "name": "python3",
      "display_name": "Python 3"
    },
    "language_info": {
      "name": "python"
    }
  },
  "cells": [
    {
      "cell_type": "markdown",
      "metadata": {
        "id": "view-in-github",
        "colab_type": "text"
      },
      "source": [
        "<a href=\"https://colab.research.google.com/github/muzammil-jafar/Python/blob/main/class3_4ipynb.ipynb\" target=\"_parent\"><img src=\"https://colab.research.google.com/assets/colab-badge.svg\" alt=\"Open In Colab\"/></a>"
      ]
    },
    {
      "cell_type": "code",
      "execution_count": null,
      "metadata": {
        "colab": {
          "base_uri": "https://localhost:8080/"
        },
        "id": "WKIOJzVHX6DI",
        "outputId": "7ddcaea4-3b53-4d85-da96-4438944e3078"
      },
      "outputs": [
        {
          "output_type": "stream",
          "name": "stdout",
          "text": [
            "Enter your age: 12\n",
            "You are minor\n"
          ]
        }
      ],
      "source": [
        "my_age = int(input(\"Enter your age: \"))\n",
        "\n",
        "if (my_age < 18) :\n",
        "  print(\"You are minor\")\n",
        "elif (my_age == 18) :\n",
        " print(\"You are exactly 18 year old!\")\n",
        "elif (my_age >= 50) :\n",
        " print(\"You are  old!\")\n",
        "else :\n",
        "    print(\"you are an adult\")\n"
      ]
    },
    {
      "cell_type": "code",
      "source": [
        "\n",
        "\n",
        "shopping_items: list[str] = [\"Cake\",\"Bread\",\"Egg\",\"Juice\",\"Chips\"]\n",
        "print(shopping_items)\n",
        "\n",
        "tasks : list [str] = [\"Teach a class\", \"Finish a juice\",\" Dinner\",\"Sleep\" ]\n",
        "print(tasks)"
      ],
      "metadata": {
        "colab": {
          "base_uri": "https://localhost:8080/"
        },
        "id": "mHCbPH8KLD3X",
        "outputId": "5c64c6a8-b5a6-4d88-a084-8aee27275edc"
      },
      "execution_count": 1,
      "outputs": [
        {
          "output_type": "stream",
          "name": "stdout",
          "text": [
            "['Cake', 'Bread', 'Egg', 'Juice', 'Chips']\n",
            "['Teach a class', 'Finish a juice', ' Dinner', 'Sleep']\n"
          ]
        }
      ]
    },
    {
      "cell_type": "markdown",
      "source": [
        "List indexes"
      ],
      "metadata": {
        "id": "wGr5TVN-QXDI"
      }
    },
    {
      "cell_type": "code",
      "source": [
        "shopping_items: list[str] = [\"Cake\",\"Bread\",\"Egg\",\"Juice\",\"Chips\"]\n",
        "print(shopping_items[2])\n",
        "print(shopping_items[-1])"
      ],
      "metadata": {
        "colab": {
          "base_uri": "https://localhost:8080/"
        },
        "id": "k5-gRtGJQZH_",
        "outputId": "ec80dbfe-c1e6-434e-a18e-f24863ba8b0f"
      },
      "execution_count": 3,
      "outputs": [
        {
          "output_type": "stream",
          "name": "stdout",
          "text": [
            "Egg\n",
            "Chips\n"
          ]
        }
      ]
    },
    {
      "cell_type": "markdown",
      "source": [
        "List Length"
      ],
      "metadata": {
        "id": "N0hIeuJIRhZo"
      }
    },
    {
      "cell_type": "code",
      "source": [
        "shopping_items: list[str] = [\"Cake\",\"Bread\",\"Egg\",\"Juice\",\"Chips\"]\n",
        "print(len(shopping_items))"
      ],
      "metadata": {
        "colab": {
          "base_uri": "https://localhost:8080/"
        },
        "id": "esdqDkPsRqEo",
        "outputId": "16274f0a-dc4f-4e87-d36e-1a820c8b8c48"
      },
      "execution_count": 4,
      "outputs": [
        {
          "output_type": "stream",
          "name": "stdout",
          "text": [
            "5\n"
          ]
        }
      ]
    },
    {
      "cell_type": "markdown",
      "source": [
        "List Slicing"
      ],
      "metadata": {
        "id": "w2UcQrAKSTFG"
      }
    },
    {
      "cell_type": "code",
      "source": [
        "shopping_items: list[str] = [\"Cake\",\"Bread\",\"Egg\",\"Juice\",\"Chips\"]\n",
        "print(shopping_items[0:5])"
      ],
      "metadata": {
        "colab": {
          "base_uri": "https://localhost:8080/"
        },
        "id": "nkbmx-XVSVT5",
        "outputId": "bab3f03c-25b2-4d35-ef99-2292d305a38c"
      },
      "execution_count": 9,
      "outputs": [
        {
          "output_type": "stream",
          "name": "stdout",
          "text": [
            "['Cake', 'Bread', 'Egg', 'Juice', 'Chips']\n"
          ]
        }
      ]
    },
    {
      "cell_type": "markdown",
      "source": [
        "Checking Membership"
      ],
      "metadata": {
        "id": "wLJzUaUgUC59"
      }
    },
    {
      "cell_type": "code",
      "source": [
        "shopping_items: list[str] = [\"Cake\",\"Bread\",\"Egg\",\"Juice\",\"Chips\"]\n",
        "print(\"Egg\" in shopping_items)\n",
        "print(\"OiL\" in shopping_items)"
      ],
      "metadata": {
        "colab": {
          "base_uri": "https://localhost:8080/"
        },
        "id": "pe1MIZG_UMet",
        "outputId": "a05f7e1b-4fda-44eb-c3b2-1fb1accdd32b"
      },
      "execution_count": 11,
      "outputs": [
        {
          "output_type": "stream",
          "name": "stdout",
          "text": [
            "True\n",
            "False\n"
          ]
        }
      ]
    },
    {
      "cell_type": "markdown",
      "source": [
        "Adding or Removing item from list"
      ],
      "metadata": {
        "id": "sIcSpVUxVV7E"
      }
    },
    {
      "cell_type": "code",
      "source": [
        "shopping_items: list[str] = [\"Cake\",\"Bread\",\"Egg\",\"Juice\",\"Chips\"]\n",
        "print(shopping_items)\n",
        "\n",
        "#apeenf item in list\n",
        "shopping_items.append(\"Banana\")\n",
        "print(shopping_items)\n",
        "\n",
        "#remove item from list\n",
        "shopping_items.remove(\"Cake\")\n",
        "print(shopping_items)\n",
        "\n",
        "\n"
      ],
      "metadata": {
        "colab": {
          "base_uri": "https://localhost:8080/"
        },
        "id": "oi5QuJBKVb9i",
        "outputId": "7607727d-dd5c-49f7-c110-8b888027ecad"
      },
      "execution_count": 24,
      "outputs": [
        {
          "output_type": "stream",
          "name": "stdout",
          "text": [
            "['Cake', 'Bread', 'Egg', 'Juice', 'Chips']\n",
            "['Cake', 'Bread', 'Egg', 'Juice', 'Chips', 'Banana']\n",
            "['Cake', 'oil', 'Bread', 'Egg', 'Juice', 'Chips', 'Banana']\n",
            "['oil', 'Bread', 'Egg', 'Juice', 'Chips', 'Banana']\n",
            "oil\n"
          ]
        }
      ]
    },
    {
      "cell_type": "markdown",
      "source": [
        "Inserting and Poping from list"
      ],
      "metadata": {
        "id": "0MYClM4GaiBz"
      }
    },
    {
      "cell_type": "code",
      "source": [
        "#adding item on specific index\n",
        "shopping_items: list[str] = [\"Cake\",\"Bread\",\"Egg\",\"Juice\",\"Chips\"]\n",
        "shopping_items.insert(1,\"oil\")\n",
        "print(shopping_items)\n",
        "\n",
        "#poping item from list\n",
        "shopping_items.pop(2)\n",
        "print(shopping_items)"
      ],
      "metadata": {
        "colab": {
          "base_uri": "https://localhost:8080/"
        },
        "id": "8TCZplwBapc1",
        "outputId": "a2908134-717d-4911-f278-14467e7e3878"
      },
      "execution_count": 26,
      "outputs": [
        {
          "output_type": "stream",
          "name": "stdout",
          "text": [
            "['Cake', 'oil', 'Bread', 'Egg', 'Juice', 'Chips']\n",
            "['Cake', 'oil', 'Egg', 'Juice', 'Chips']\n"
          ]
        }
      ]
    }
  ]
}