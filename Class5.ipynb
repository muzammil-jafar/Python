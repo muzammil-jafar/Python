{
  "nbformat": 4,
  "nbformat_minor": 0,
  "metadata": {
    "colab": {
      "provenance": [],
      "authorship_tag": "ABX9TyPSUoK9HNmsvSc7rKvmuMkP",
      "include_colab_link": true
    },
    "kernelspec": {
      "name": "python3",
      "display_name": "Python 3"
    },
    "language_info": {
      "name": "python"
    }
  },
  "cells": [
    {
      "cell_type": "markdown",
      "metadata": {
        "id": "view-in-github",
        "colab_type": "text"
      },
      "source": [
        "<a href=\"https://colab.research.google.com/github/muzammil-jafar/Python/blob/main/Class5.ipynb\" target=\"_parent\"><img src=\"https://colab.research.google.com/assets/colab-badge.svg\" alt=\"Open In Colab\"/></a>"
      ]
    },
    {
      "cell_type": "markdown",
      "source": [
        "What is function ?"
      ],
      "metadata": {
        "id": "YZwirZHdhQFE"
      }
    },
    {
      "cell_type": "code",
      "source": [
        "#why we use fuctions ?\n",
        "#Because its saves us from repetition.\n",
        "#Because help us to organize oue code .\n",
        "\n",
        "#syntax\n",
        "def function_name (parameter):\n",
        "  #code block\n",
        "  return value"
      ],
      "metadata": {
        "id": "LpnVDMmxhcrF"
      },
      "execution_count": null,
      "outputs": []
    },
    {
      "cell_type": "markdown",
      "source": [
        "Lets greet through function\n"
      ],
      "metadata": {
        "id": "xaV6WG1micnr"
      }
    },
    {
      "cell_type": "code",
      "source": [
        "def greet():\n",
        "  print(\"Hello person\")\n",
        "\n",
        "greet()"
      ],
      "metadata": {
        "colab": {
          "base_uri": "https://localhost:8080/"
        },
        "id": "t0U40q3QimYn",
        "outputId": "34dae794-040c-4c52-c3f0-f931dc4fa8e5"
      },
      "execution_count": 4,
      "outputs": [
        {
          "output_type": "stream",
          "name": "stdout",
          "text": [
            "Hello person\n"
          ]
        }
      ]
    },
    {
      "cell_type": "markdown",
      "source": [
        "Let's Create a function with Parameter\n"
      ],
      "metadata": {
        "id": "Sh0uLUR1j26t"
      }
    },
    {
      "cell_type": "code",
      "source": [
        "def greet (name):\n",
        "  print(f\"Hey {name}\")\n",
        "\n",
        "greet(\"Aman\")\n",
        "greet(\"Hassan\")"
      ],
      "metadata": {
        "colab": {
          "base_uri": "https://localhost:8080/"
        },
        "id": "pLkiqZ55l62n",
        "outputId": "27a5ce01-e335-4810-ae6d-825f4b33ac77"
      },
      "execution_count": 6,
      "outputs": [
        {
          "output_type": "stream",
          "name": "stdout",
          "text": [
            "Hey Aman\n",
            "Hey Hassan\n"
          ]
        }
      ]
    },
    {
      "cell_type": "markdown",
      "source": [
        "Let's Create a fuction with return value"
      ],
      "metadata": {
        "id": "fgW65GOrmSh9"
      }
    },
    {
      "cell_type": "code",
      "source": [
        "def addition (a,b):\n",
        "  return (f\"your answer is {a+b}\")\n",
        "\n",
        "addition(10,40)"
      ],
      "metadata": {
        "colab": {
          "base_uri": "https://localhost:8080/",
          "height": 35
        },
        "id": "GZrm7760mc2h",
        "outputId": "d4855115-e232-4ee3-aceb-ac57952d6e22"
      },
      "execution_count": 10,
      "outputs": [
        {
          "output_type": "execute_result",
          "data": {
            "text/plain": [
              "'your answer is 50'"
            ],
            "application/vnd.google.colaboratory.intrinsic+json": {
              "type": "string"
            }
          },
          "metadata": {},
          "execution_count": 10
        }
      ]
    },
    {
      "cell_type": "markdown",
      "source": [
        "Define default parameter"
      ],
      "metadata": {
        "id": "Me8XPWZcont2"
      }
    },
    {
      "cell_type": "code",
      "source": [
        "def greet_default(name : str = \"Guest\"):\n",
        "  return f\"Hey {name}\"\n",
        "\n",
        "greet_default()\n",
        "greet_default(\"aman\")"
      ],
      "metadata": {
        "colab": {
          "base_uri": "https://localhost:8080/",
          "height": 35
        },
        "id": "4SuL-DLlovO7",
        "outputId": "0699f18c-3754-40fb-fb6b-c4e6018c09e9"
      },
      "execution_count": 13,
      "outputs": [
        {
          "output_type": "execute_result",
          "data": {
            "text/plain": [
              "'Hey aman'"
            ],
            "application/vnd.google.colaboratory.intrinsic+json": {
              "type": "string"
            }
          },
          "metadata": {},
          "execution_count": 13
        }
      ]
    },
    {
      "cell_type": "code",
      "source": [
        "def tea():\n",
        "  print(\"step:1 Boil WAter\")\n",
        "  print(\"step:2 Add milk\")\n",
        "  print(\"step:3 Add patti\")\n",
        "  print(\"step:4 serve tea\")\n",
        "  return \"Enjoy the tea\"\n",
        "\n",
        "tea1 = tea();\n",
        "print(f\"{tea1} Aman\")"
      ],
      "metadata": {
        "colab": {
          "base_uri": "https://localhost:8080/"
        },
        "id": "sCWbks9ytaoY",
        "outputId": "3144e507-f9ea-4303-ad01-fd2fb6e5b2f1"
      },
      "execution_count": 15,
      "outputs": [
        {
          "output_type": "stream",
          "name": "stdout",
          "text": [
            "step:1 Boil WAter\n",
            "step:2 Add milk\n",
            "step:3 Add patti\n",
            "step:4 serve tea\n",
            "Enjoy the tea Aman\n"
          ]
        }
      ]
    },
    {
      "cell_type": "code",
      "source": [
        "def call_llm(prompt):\n",
        "  print(f\"user:{prompt}\")\n",
        "  return \"AI: Hey how can i assist you\"\n",
        "\n",
        "response = call_llm(\"Hey my is Aman\")\n",
        "print(response)"
      ],
      "metadata": {
        "colab": {
          "base_uri": "https://localhost:8080/"
        },
        "id": "Pu6cotSEEi8Q",
        "outputId": "86811901-bb76-4344-8757-1b58da56e37e"
      },
      "execution_count": 3,
      "outputs": [
        {
          "output_type": "stream",
          "name": "stdout",
          "text": [
            "user:Hey my is Aman\n",
            "AI: Hey how can i assist you\n"
          ]
        }
      ]
    },
    {
      "cell_type": "code",
      "source": [
        "import random\n",
        "\n",
        "def roll_dice(limit = 6) :\n",
        "  return random.randint(1,limit)\n",
        "roll_dice(12)"
      ],
      "metadata": {
        "colab": {
          "base_uri": "https://localhost:8080/"
        },
        "id": "O7wiI4AmI9zP",
        "outputId": "056ab4f6-988c-4497-c77e-10318afef46f"
      },
      "execution_count": 6,
      "outputs": [
        {
          "output_type": "execute_result",
          "data": {
            "text/plain": [
              "10"
            ]
          },
          "metadata": {},
          "execution_count": 6
        }
      ]
    }
  ]
}