{
  "nbformat": 4,
  "nbformat_minor": 0,
  "metadata": {
    "colab": {
      "provenance": [],
      "authorship_tag": "ABX9TyM8qzWbdhyRY5vYlTvqa/B/",
      "include_colab_link": true
    },
    "kernelspec": {
      "name": "python3",
      "display_name": "Python 3"
    },
    "language_info": {
      "name": "python"
    }
  },
  "cells": [
    {
      "cell_type": "markdown",
      "metadata": {
        "id": "view-in-github",
        "colab_type": "text"
      },
      "source": [
        "<a href=\"https://colab.research.google.com/github/muzammil-jafar/Python/blob/main/Class6.ipynb\" target=\"_parent\"><img src=\"https://colab.research.google.com/assets/colab-badge.svg\" alt=\"Open In Colab\"/></a>"
      ]
    },
    {
      "cell_type": "markdown",
      "source": [
        "Why do we neeed dictionary in python\n"
      ],
      "metadata": {
        "id": "Um7RT8hWPGVC"
      }
    },
    {
      "cell_type": "code",
      "source": [
        "#User = [\"Username\", \"Muzammil\",\"age\", 20 ,\"City\", \"Karachi\"]\n",
        "#print(User[0],User[1])\n",
        "\n",
        "user = {\n",
        "    \"username\": \"Muzammil\",\n",
        "    \"age\":20,\n",
        "    \"city\":\"karachi\"\n",
        "}\n",
        "print(user[\"username\"])\n",
        "print(user[\"age\"])\n",
        "print(user[\"city\"])"
      ],
      "metadata": {
        "colab": {
          "base_uri": "https://localhost:8080/"
        },
        "id": "de4PjMzcPNwu",
        "outputId": "0d951828-2ea2-489a-cb34-74faaf57ee21"
      },
      "execution_count": 9,
      "outputs": [
        {
          "output_type": "stream",
          "name": "stdout",
          "text": [
            "Muzammil\n",
            "20\n",
            "karachi\n"
          ]
        }
      ]
    },
    {
      "cell_type": "markdown",
      "source": [
        "Adding and Updating Dictionary\n"
      ],
      "metadata": {
        "id": "wORNClq9SZQ1"
      }
    },
    {
      "cell_type": "code",
      "source": [
        "user = {\n",
        "    \"username\": \"Muzammil\",\n",
        "    \"age\":20,\n",
        "    \"city\":\"karachi\"\n",
        "}\n",
        "\n",
        "user [\"username\"] = \"Aman\"\n",
        "print(user[\"username\"])\n",
        "\n",
        "user [\"age\"] = 18\n",
        "print(user[\"age\"])\n",
        "\n",
        "user [\"city\"] = \"Islamabad\"\n",
        "print(user[\"city\"])\n",
        "\n",
        "#Adding a key value dictionary\n",
        "\n",
        "user[\"Country\"] = \"Pakistan\"\n",
        "print(user)"
      ],
      "metadata": {
        "colab": {
          "base_uri": "https://localhost:8080/"
        },
        "id": "GydpJp4tSfF-",
        "outputId": "18308f3e-756d-46c3-c2b4-36e334551794"
      },
      "execution_count": 13,
      "outputs": [
        {
          "output_type": "stream",
          "name": "stdout",
          "text": [
            "Aman\n",
            "18\n",
            "Islamabad\n",
            "{'username': 'Aman', 'age': 18, 'city': 'Islamabad', 'Country': 'Pakistan'}\n"
          ]
        }
      ]
    },
    {
      "cell_type": "markdown",
      "source": [
        "Store multiple students data in dictionary usin list"
      ],
      "metadata": {
        "id": "7joh9voGXxxf"
      }
    },
    {
      "cell_type": "code",
      "source": [
        "students : list = [  {\"name\":\"Hassan\",\"subject\":\"Python\",\"roll_num\":123},\n",
        "    {\"name\":\"Aman\",\"subject\":\"English\",\"roll_num\":124},\n",
        "    {\"name\":\"Atif\",\"subject\":\"Science\",\"roll_num\":125}]\n",
        "\n",
        "\n",
        "print(students[1])"
      ],
      "metadata": {
        "colab": {
          "base_uri": "https://localhost:8080/"
        },
        "id": "5rUrYKpNYD1Q",
        "outputId": "3cd6171e-69a8-4eeb-a038-90f5ba9c67f4"
      },
      "execution_count": 20,
      "outputs": [
        {
          "output_type": "stream",
          "name": "stdout",
          "text": [
            "{'name': 'Aman', 'subject': 'English', 'roll_num': 124}\n"
          ]
        }
      ]
    },
    {
      "cell_type": "markdown",
      "source": [
        "Why we need loops"
      ],
      "metadata": {
        "id": "L6ctPA7JhEz9"
      }
    },
    {
      "cell_type": "code",
      "source": [
        "#print(1)\n",
        "#print(2)\n",
        "#print(4)\n",
        "#print(5)\n",
        "\n",
        "for i in range(1,6):\n",
        "  print(i)\n",
        "\n",
        "students = [\"Aman\",\"Hassan\",\"Zainab\",\"Wajieha\",\"Hadia\",\"Muzammil\"]\n",
        "\n",
        "for student in students:\n",
        "  print(student)"
      ],
      "metadata": {
        "colab": {
          "base_uri": "https://localhost:8080/"
        },
        "collapsed": true,
        "id": "c00hggkyhIjJ",
        "outputId": "09d5c828-1aee-49b3-8c87-cbcaab47f6f9"
      },
      "execution_count": 25,
      "outputs": [
        {
          "output_type": "stream",
          "name": "stdout",
          "text": [
            "1\n",
            "2\n",
            "3\n",
            "4\n",
            "5\n",
            "Aman\n",
            "Hassan\n",
            "Zainab\n",
            "Wajieha\n",
            "Hadia\n",
            "Muzammil\n"
          ]
        }
      ]
    },
    {
      "cell_type": "code",
      "source": [
        "#Guessing Game\n",
        "\n",
        "correct_number = 9\n",
        "guess = 0\n",
        "\n",
        "while correct_number != guess:\n",
        "  guess = int(input(\"Guess the number :\"))\n",
        "  print(\"Wrong try again please\" if guess != correct_number else \"you guess the Correct number !\")"
      ],
      "metadata": {
        "colab": {
          "base_uri": "https://localhost:8080/"
        },
        "id": "pT7auyntk4QT",
        "outputId": "01235f4d-3a35-4439-eef0-2b6640314f22"
      },
      "execution_count": 26,
      "outputs": [
        {
          "output_type": "stream",
          "name": "stdout",
          "text": [
            "Guess the number :5\n",
            "Wrong try again please\n",
            "Guess the number :6\n",
            "Wrong try again please\n",
            "Guess the number :9\n",
            "you guess the Correct number !\n"
          ]
        }
      ]
    },
    {
      "cell_type": "code",
      "source": [
        "countdown = 10\n",
        "\n",
        "while countdown >= 1:\n",
        "  print(f\"{countdown}...\")\n",
        "  countdown -= 1\n",
        "\n",
        "print(\"Happy new year\")"
      ],
      "metadata": {
        "colab": {
          "base_uri": "https://localhost:8080/"
        },
        "id": "cqPLdAdi3r8t",
        "outputId": "e04e6617-806f-453e-9afd-a2c997bae23b"
      },
      "execution_count": 2,
      "outputs": [
        {
          "output_type": "stream",
          "name": "stdout",
          "text": [
            "10...\n",
            "9...\n",
            "8...\n",
            "7...\n",
            "6...\n",
            "5...\n",
            "4...\n",
            "3...\n",
            "2...\n",
            "1...\n",
            "Happy new year\n"
          ]
        }
      ]
    },
    {
      "cell_type": "code",
      "source": [
        "numbers = [1,2,3,4,5]\n",
        "\n",
        "for number in numbers:\n",
        "  print(number**2)"
      ],
      "metadata": {
        "colab": {
          "base_uri": "https://localhost:8080/"
        },
        "id": "OIkTwyoi5BWL",
        "outputId": "e507cd47-f7ff-442e-9a59-c7715305c138"
      },
      "execution_count": 7,
      "outputs": [
        {
          "output_type": "stream",
          "name": "stdout",
          "text": [
            "1\n",
            "4\n",
            "9\n",
            "16\n",
            "25\n"
          ]
        }
      ]
    }
  ]
}